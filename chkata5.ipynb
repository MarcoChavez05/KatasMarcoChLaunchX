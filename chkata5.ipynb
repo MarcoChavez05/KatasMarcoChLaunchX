{
 "cells": [
  {
   "cell_type": "markdown",
   "metadata": {},
   "source": [
    "Ejercicio 1. \n",
    "\n",
    "Utilizar operadores aritméticos.\n",
    "\n",
    "Exploremos cómo podemos crear un programa que pueda calcular la distancia entre dos planetas. Comenzaremos usando dos distancias de planetas: Tierra (149.597.870 km) y Júpiter (778.547.200 km)."
   ]
  },
  {
   "cell_type": "code",
   "execution_count": 24,
   "metadata": {},
   "outputs": [],
   "source": [
    "planeta_tierra = 149597870\n",
    "planeta_jupiter = 778547200"
   ]
  },
  {
   "cell_type": "markdown",
   "metadata": {},
   "source": [
    "Con los valores obtenidos, es el momento de añadir el código para realizar la operación. Restarás el primer planeta del segundo para determinar la distancia en kilómetros. A continuación, puedes convertir la distancia del kilómetro en millas multiplicándola por 0.621."
   ]
  },
  {
   "cell_type": "code",
   "execution_count": 21,
   "metadata": {},
   "outputs": [
    {
     "name": "stdout",
     "output_type": "stream",
     "text": [
      "628949330 En Km\n",
      "390577533.93 En Millas \n"
     ]
    }
   ],
   "source": [
    "distancia = planeta_jupiter - planeta_tierra\n",
    "distancia_millas = distancia * 0.621\n",
    "\n",
    "print (distancia, \"En Km\")\n",
    "print (distancia_millas, \"En Millas \")"
   ]
  },
  {
   "cell_type": "markdown",
   "metadata": {},
   "source": [
    "Ejercicio 2.\n",
    "\n",
    "Convierte cadenas en números y usa valores absolutos.\n",
    "\n",
    "Crear una aplicación para trabajar con números y entrada de usuario\n",
    "Con frecuencia, deberás convertir los valores de cadena en números para realizar correctamente diferentes operaciones o determinar el valor absoluto de un número.\n",
    "\n",
    "Para crear nuestra aplicación, queremos leer la distancia del sol para dos planetas, y luego mostrar la distancia entre los planetas. Haremos esto usando input para leer los valores, int para convertir a entero y luego abs para convertir el resultado en su valor absoluto.\n"
   ]
  },
  {
   "cell_type": "markdown",
   "metadata": {},
   "source": [
    "Lee los valores.\n",
    "\n",
    "Usando input, agrega el código para leer la distancia del sol para cada planeta, considerando 2 planetas."
   ]
  },
  {
   "cell_type": "code",
   "execution_count": 22,
   "metadata": {},
   "outputs": [],
   "source": [
    "planeta_1 = int(input(\"Cloque la distancia al sol del primer planeta:\"))\n",
    "planeta_2 = int(input(\"Coloque la distancia al sol del segunto planeta:\"))"
   ]
  },
  {
   "cell_type": "markdown",
   "metadata": {},
   "source": [
    "Realizar el cálculo y convertir a valor absoluto.\n",
    "\n",
    "Con los valores almacenados como números, ahora puedes agregar el código para realizar el cálculo, restando el primer planeta del segundo. Debido a que el segundo planeta podría ser un número mayor, usarás abs para convertirlo a un valor absoluto. También agregarás el código para mostrar el resultado en millas multiplicando la distancia del kilómetro por 0.621"
   ]
  },
  {
   "cell_type": "code",
   "execution_count": 23,
   "metadata": {},
   "outputs": [
    {
     "name": "stdout",
     "output_type": "stream",
     "text": [
      "La distancia en Kilometros es: 720700000\n",
      "la distancia en Millas es:   447554700.0\n",
      "447554700.0\n"
     ]
    }
   ],
   "source": [
    "distanciaKm = planeta_2 - planeta_1\n",
    "distanciaM = distanciaKm * 0.621\n",
    "\n",
    "print (\"La distancia en Kilometros es:\", distanciaKm)\n",
    "print (\"la distancia en Millas es:  \", distanciaM)\n",
    "print (abs( distanciaM))\n"
   ]
  },
  {
   "cell_type": "markdown",
   "metadata": {},
   "source": [
    "Ojo estas son las ditancias de cada planeta \n",
    "\n",
    "Planeta\t  Distancia al sol\n",
    "Mercurio\t57900000\n",
    "Venus\t    108200000\n",
    "Tierra\t    149600000\n",
    "Marte\t    227900000\n",
    "Júpiter\t    778600000\n",
    "Saturno\t    1433500000\n",
    "Urano\t    2872500000\n",
    "Neptuno\t    4495100000"
   ]
  }
 ],
 "metadata": {
  "interpreter": {
   "hash": "b89b5cfaba6639976dc87ff2fec6d58faec662063367e2c229c520fe71072417"
  },
  "kernelspec": {
   "display_name": "Python 3.10.2 64-bit",
   "language": "python",
   "name": "python3"
  },
  "language_info": {
   "codemirror_mode": {
    "name": "ipython",
    "version": 3
   },
   "file_extension": ".py",
   "mimetype": "text/x-python",
   "name": "python",
   "nbconvert_exporter": "python",
   "pygments_lexer": "ipython3",
   "version": "3.10.2"
  },
  "orig_nbformat": 4
 },
 "nbformat": 4,
 "nbformat_minor": 2
}
